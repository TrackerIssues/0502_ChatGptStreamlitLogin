{
 "cells": [
  {
   "cell_type": "code",
   "execution_count": 2,
   "metadata": {},
   "outputs": [
    {
     "name": "stdout",
     "output_type": "stream",
     "text": [
      "Collecting streamlit-authenticator\n",
      "  Using cached streamlit_authenticator-0.3.1-py3-none-any.whl.metadata (15 kB)\n",
      "Collecting PyJWT>=2.3.0 (from streamlit-authenticator)\n",
      "  Using cached PyJWT-2.8.0-py3-none-any.whl.metadata (4.2 kB)\n",
      "Collecting bcrypt>=3.1.7 (from streamlit-authenticator)\n",
      "  Using cached bcrypt-4.1.2-cp39-abi3-macosx_10_12_universal2.whl.metadata (9.5 kB)\n",
      "Collecting PyYAML>=5.3.1 (from streamlit-authenticator)\n",
      "  Downloading PyYAML-6.0.1-cp39-cp39-macosx_11_0_arm64.whl.metadata (2.1 kB)\n",
      "Requirement already satisfied: streamlit>=1.25.0 in /Users/sdk/miniconda3/envs/StreamPy39/lib/python3.9/site-packages (from streamlit-authenticator) (1.31.1)\n",
      "Collecting extra-streamlit-components>=0.1.60 (from streamlit-authenticator)\n",
      "  Using cached extra_streamlit_components-0.1.70-py3-none-any.whl.metadata (5.4 kB)\n",
      "Requirement already satisfied: altair<6,>=4.0 in /Users/sdk/miniconda3/envs/StreamPy39/lib/python3.9/site-packages (from streamlit>=1.25.0->streamlit-authenticator) (5.2.0)\n",
      "Requirement already satisfied: blinker<2,>=1.0.0 in /Users/sdk/miniconda3/envs/StreamPy39/lib/python3.9/site-packages (from streamlit>=1.25.0->streamlit-authenticator) (1.7.0)\n",
      "Requirement already satisfied: cachetools<6,>=4.0 in /Users/sdk/miniconda3/envs/StreamPy39/lib/python3.9/site-packages (from streamlit>=1.25.0->streamlit-authenticator) (5.3.2)\n",
      "Requirement already satisfied: click<9,>=7.0 in /Users/sdk/miniconda3/envs/StreamPy39/lib/python3.9/site-packages (from streamlit>=1.25.0->streamlit-authenticator) (8.1.7)\n",
      "Requirement already satisfied: importlib-metadata<8,>=1.4 in /Users/sdk/miniconda3/envs/StreamPy39/lib/python3.9/site-packages (from streamlit>=1.25.0->streamlit-authenticator) (7.0.1)\n",
      "Requirement already satisfied: numpy<2,>=1.19.3 in /Users/sdk/miniconda3/envs/StreamPy39/lib/python3.9/site-packages (from streamlit>=1.25.0->streamlit-authenticator) (1.26.4)\n",
      "Requirement already satisfied: packaging<24,>=16.8 in /Users/sdk/miniconda3/envs/StreamPy39/lib/python3.9/site-packages (from streamlit>=1.25.0->streamlit-authenticator) (23.2)\n",
      "Requirement already satisfied: pandas<3,>=1.3.0 in /Users/sdk/miniconda3/envs/StreamPy39/lib/python3.9/site-packages (from streamlit>=1.25.0->streamlit-authenticator) (2.2.0)\n",
      "Requirement already satisfied: pillow<11,>=7.1.0 in /Users/sdk/miniconda3/envs/StreamPy39/lib/python3.9/site-packages (from streamlit>=1.25.0->streamlit-authenticator) (10.2.0)\n",
      "Requirement already satisfied: protobuf<5,>=3.20 in /Users/sdk/miniconda3/envs/StreamPy39/lib/python3.9/site-packages (from streamlit>=1.25.0->streamlit-authenticator) (4.25.2)\n",
      "Requirement already satisfied: pyarrow>=7.0 in /Users/sdk/miniconda3/envs/StreamPy39/lib/python3.9/site-packages (from streamlit>=1.25.0->streamlit-authenticator) (15.0.0)\n",
      "Requirement already satisfied: python-dateutil<3,>=2.7.3 in /Users/sdk/miniconda3/envs/StreamPy39/lib/python3.9/site-packages (from streamlit>=1.25.0->streamlit-authenticator) (2.8.2)\n",
      "Requirement already satisfied: requests<3,>=2.27 in /Users/sdk/miniconda3/envs/StreamPy39/lib/python3.9/site-packages (from streamlit>=1.25.0->streamlit-authenticator) (2.31.0)\n",
      "Requirement already satisfied: rich<14,>=10.14.0 in /Users/sdk/miniconda3/envs/StreamPy39/lib/python3.9/site-packages (from streamlit>=1.25.0->streamlit-authenticator) (13.7.0)\n",
      "Requirement already satisfied: tenacity<9,>=8.1.0 in /Users/sdk/miniconda3/envs/StreamPy39/lib/python3.9/site-packages (from streamlit>=1.25.0->streamlit-authenticator) (8.2.3)\n",
      "Requirement already satisfied: toml<2,>=0.10.1 in /Users/sdk/miniconda3/envs/StreamPy39/lib/python3.9/site-packages (from streamlit>=1.25.0->streamlit-authenticator) (0.10.2)\n",
      "Requirement already satisfied: typing-extensions<5,>=4.3.0 in /Users/sdk/miniconda3/envs/StreamPy39/lib/python3.9/site-packages (from streamlit>=1.25.0->streamlit-authenticator) (4.9.0)\n",
      "Requirement already satisfied: tzlocal<6,>=1.1 in /Users/sdk/miniconda3/envs/StreamPy39/lib/python3.9/site-packages (from streamlit>=1.25.0->streamlit-authenticator) (5.2)\n",
      "Requirement already satisfied: validators<1,>=0.2 in /Users/sdk/miniconda3/envs/StreamPy39/lib/python3.9/site-packages (from streamlit>=1.25.0->streamlit-authenticator) (0.22.0)\n",
      "Requirement already satisfied: gitpython!=3.1.19,<4,>=3.0.7 in /Users/sdk/miniconda3/envs/StreamPy39/lib/python3.9/site-packages (from streamlit>=1.25.0->streamlit-authenticator) (3.1.41)\n",
      "Requirement already satisfied: pydeck<1,>=0.8.0b4 in /Users/sdk/miniconda3/envs/StreamPy39/lib/python3.9/site-packages (from streamlit>=1.25.0->streamlit-authenticator) (0.8.1b0)\n",
      "Requirement already satisfied: tornado<7,>=6.0.3 in /Users/sdk/miniconda3/envs/StreamPy39/lib/python3.9/site-packages (from streamlit>=1.25.0->streamlit-authenticator) (6.3.3)\n",
      "Requirement already satisfied: jinja2 in /Users/sdk/miniconda3/envs/StreamPy39/lib/python3.9/site-packages (from altair<6,>=4.0->streamlit>=1.25.0->streamlit-authenticator) (3.1.3)\n",
      "Requirement already satisfied: jsonschema>=3.0 in /Users/sdk/miniconda3/envs/StreamPy39/lib/python3.9/site-packages (from altair<6,>=4.0->streamlit>=1.25.0->streamlit-authenticator) (4.21.1)\n",
      "Requirement already satisfied: toolz in /Users/sdk/miniconda3/envs/StreamPy39/lib/python3.9/site-packages (from altair<6,>=4.0->streamlit>=1.25.0->streamlit-authenticator) (0.12.1)\n",
      "Requirement already satisfied: gitdb<5,>=4.0.1 in /Users/sdk/miniconda3/envs/StreamPy39/lib/python3.9/site-packages (from gitpython!=3.1.19,<4,>=3.0.7->streamlit>=1.25.0->streamlit-authenticator) (4.0.11)\n",
      "Requirement already satisfied: zipp>=0.5 in /Users/sdk/miniconda3/envs/StreamPy39/lib/python3.9/site-packages (from importlib-metadata<8,>=1.4->streamlit>=1.25.0->streamlit-authenticator) (3.17.0)\n",
      "Requirement already satisfied: pytz>=2020.1 in /Users/sdk/miniconda3/envs/StreamPy39/lib/python3.9/site-packages (from pandas<3,>=1.3.0->streamlit>=1.25.0->streamlit-authenticator) (2024.1)\n",
      "Requirement already satisfied: tzdata>=2022.7 in /Users/sdk/miniconda3/envs/StreamPy39/lib/python3.9/site-packages (from pandas<3,>=1.3.0->streamlit>=1.25.0->streamlit-authenticator) (2024.1)\n",
      "Requirement already satisfied: six>=1.5 in /Users/sdk/miniconda3/envs/StreamPy39/lib/python3.9/site-packages (from python-dateutil<3,>=2.7.3->streamlit>=1.25.0->streamlit-authenticator) (1.16.0)\n",
      "Requirement already satisfied: charset-normalizer<4,>=2 in /Users/sdk/miniconda3/envs/StreamPy39/lib/python3.9/site-packages (from requests<3,>=2.27->streamlit>=1.25.0->streamlit-authenticator) (3.3.2)\n",
      "Requirement already satisfied: idna<4,>=2.5 in /Users/sdk/miniconda3/envs/StreamPy39/lib/python3.9/site-packages (from requests<3,>=2.27->streamlit>=1.25.0->streamlit-authenticator) (3.6)\n",
      "Requirement already satisfied: urllib3<3,>=1.21.1 in /Users/sdk/miniconda3/envs/StreamPy39/lib/python3.9/site-packages (from requests<3,>=2.27->streamlit>=1.25.0->streamlit-authenticator) (2.2.0)\n",
      "Requirement already satisfied: certifi>=2017.4.17 in /Users/sdk/miniconda3/envs/StreamPy39/lib/python3.9/site-packages (from requests<3,>=2.27->streamlit>=1.25.0->streamlit-authenticator) (2024.2.2)\n",
      "Requirement already satisfied: markdown-it-py>=2.2.0 in /Users/sdk/miniconda3/envs/StreamPy39/lib/python3.9/site-packages (from rich<14,>=10.14.0->streamlit>=1.25.0->streamlit-authenticator) (3.0.0)\n",
      "Requirement already satisfied: pygments<3.0.0,>=2.13.0 in /Users/sdk/miniconda3/envs/StreamPy39/lib/python3.9/site-packages (from rich<14,>=10.14.0->streamlit>=1.25.0->streamlit-authenticator) (2.17.2)\n",
      "Requirement already satisfied: smmap<6,>=3.0.1 in /Users/sdk/miniconda3/envs/StreamPy39/lib/python3.9/site-packages (from gitdb<5,>=4.0.1->gitpython!=3.1.19,<4,>=3.0.7->streamlit>=1.25.0->streamlit-authenticator) (5.0.1)\n",
      "Requirement already satisfied: MarkupSafe>=2.0 in /Users/sdk/miniconda3/envs/StreamPy39/lib/python3.9/site-packages (from jinja2->altair<6,>=4.0->streamlit>=1.25.0->streamlit-authenticator) (2.1.5)\n",
      "Requirement already satisfied: attrs>=22.2.0 in /Users/sdk/miniconda3/envs/StreamPy39/lib/python3.9/site-packages (from jsonschema>=3.0->altair<6,>=4.0->streamlit>=1.25.0->streamlit-authenticator) (23.2.0)\n",
      "Requirement already satisfied: jsonschema-specifications>=2023.03.6 in /Users/sdk/miniconda3/envs/StreamPy39/lib/python3.9/site-packages (from jsonschema>=3.0->altair<6,>=4.0->streamlit>=1.25.0->streamlit-authenticator) (2023.12.1)\n",
      "Requirement already satisfied: referencing>=0.28.4 in /Users/sdk/miniconda3/envs/StreamPy39/lib/python3.9/site-packages (from jsonschema>=3.0->altair<6,>=4.0->streamlit>=1.25.0->streamlit-authenticator) (0.33.0)\n",
      "Requirement already satisfied: rpds-py>=0.7.1 in /Users/sdk/miniconda3/envs/StreamPy39/lib/python3.9/site-packages (from jsonschema>=3.0->altair<6,>=4.0->streamlit>=1.25.0->streamlit-authenticator) (0.18.0)\n",
      "Requirement already satisfied: mdurl~=0.1 in /Users/sdk/miniconda3/envs/StreamPy39/lib/python3.9/site-packages (from markdown-it-py>=2.2.0->rich<14,>=10.14.0->streamlit>=1.25.0->streamlit-authenticator) (0.1.2)\n",
      "Using cached streamlit_authenticator-0.3.1-py3-none-any.whl (17 kB)\n",
      "Using cached bcrypt-4.1.2-cp39-abi3-macosx_10_12_universal2.whl (528 kB)\n",
      "Using cached extra_streamlit_components-0.1.70-py3-none-any.whl (4.9 MB)\n",
      "Using cached PyJWT-2.8.0-py3-none-any.whl (22 kB)\n",
      "Downloading PyYAML-6.0.1-cp39-cp39-macosx_11_0_arm64.whl (174 kB)\n",
      "\u001b[2K   \u001b[90m━━━━━━━━━━━━━━━━━━━━━━━━━━━━━━━━━━━━━━━━\u001b[0m \u001b[32m174.4/174.4 kB\u001b[0m \u001b[31m2.6 MB/s\u001b[0m eta \u001b[36m0:00:00\u001b[0ma \u001b[36m0:00:01\u001b[0m\n",
      "\u001b[?25hInstalling collected packages: PyYAML, PyJWT, bcrypt, extra-streamlit-components, streamlit-authenticator\n",
      "Successfully installed PyJWT-2.8.0 PyYAML-6.0.1 bcrypt-4.1.2 extra-streamlit-components-0.1.70 streamlit-authenticator-0.3.1\n",
      "Note: you may need to restart the kernel to use updated packages.\n"
     ]
    }
   ],
   "source": [
    "# pip install streamlit-authenticator"
   ]
  },
  {
   "cell_type": "code",
   "execution_count": 1,
   "metadata": {},
   "outputs": [],
   "source": [
    "import pickle\n",
    "from pathlib import Path \n",
    "\n",
    "import streamlit_authenticator as stauth"
   ]
  },
  {
   "cell_type": "code",
   "execution_count": 4,
   "metadata": {},
   "outputs": [],
   "source": [
    "lstName = [\"Tracker Issues\", \"Tracking Issues\"]\n",
    "lstUserName = [\"tracker\", \"trackingissues\"]\n",
    "\n",
    "\n",
    "sPassWords = [\"p*****\", \"q******\"]\n",
    "\n",
    "sHashedPassWord = stauth.Hasher( sPassWords ).generate()\n"
   ]
  },
  {
   "cell_type": "code",
   "execution_count": 5,
   "metadata": {},
   "outputs": [],
   "source": [
    "# sFileName = Path(__file__).parent / \"PassWorld.pkl\"\n",
    "sFileName = Path(\".\").parent / \"PassWord.pkl\"\n",
    "\n",
    "\n",
    "with sFileName.open(\"wb\") as file :\n",
    "    pickle.dump(sHashedPassWord, file)"
   ]
  },
  {
   "cell_type": "code",
   "execution_count": 6,
   "metadata": {},
   "outputs": [
    {
     "name": "stdout",
     "output_type": "stream",
     "text": [
      ".\n"
     ]
    }
   ],
   "source": [
    "print(Path(\".\").parent)"
   ]
  },
  {
   "cell_type": "code",
   "execution_count": null,
   "metadata": {},
   "outputs": [],
   "source": []
  }
 ],
 "metadata": {
  "kernelspec": {
   "display_name": "StreamPy39",
   "language": "python",
   "name": "python3"
  },
  "language_info": {
   "codemirror_mode": {
    "name": "ipython",
    "version": 3
   },
   "file_extension": ".py",
   "mimetype": "text/x-python",
   "name": "python",
   "nbconvert_exporter": "python",
   "pygments_lexer": "ipython3",
   "version": "3.9.18"
  }
 },
 "nbformat": 4,
 "nbformat_minor": 2
}
