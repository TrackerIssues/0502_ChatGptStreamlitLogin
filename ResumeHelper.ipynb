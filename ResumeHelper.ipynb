{
 "cells": [
  {
   "cell_type": "code",
   "execution_count": null,
   "metadata": {},
   "outputs": [],
   "source": [
    "# !pip install python-dotenv"
   ]
  },
  {
   "cell_type": "code",
   "execution_count": 1,
   "metadata": {},
   "outputs": [],
   "source": [
    "from common import RequestChatGpt, PrintStreamResponseConsole"
   ]
  },
  {
   "cell_type": "code",
   "execution_count": 2,
   "metadata": {},
   "outputs": [
    {
     "name": "stdout",
     "output_type": "stream",
     "text": [
      "안녕하세요! 어떻게 도와드릴까요?"
     ]
    }
   ],
   "source": [
    "prompt = \"안녕하세요!\"\n",
    "\n",
    "res = RequestChatGpt(sPrompt=prompt, bStream=True)\n",
    "msg = PrintStreamResponseConsole(res)"
   ]
  },
  {
   "cell_type": "code",
   "execution_count": 3,
   "metadata": {},
   "outputs": [],
   "source": [
    "TemplePromptV1 = \"\"\"\n",
    "기업 입사용 자기소개서를 작성해야 합니다.\n",
    "답변해야 하는 질문과 이에 관련된 경험을을 참고해서 자기소개서를 작성해 주세요.\n",
    "반드시 {nMaxLength} 자 이내로 작성해야 합니다.\n",
    "\n",
    "---\n",
    "지원 회사 : {sCompany}\n",
    "지원 직무 : {sPosition}\n",
    "질문 : {sQuestion}\n",
    "관련 경험 : {sExperience}\n",
    "---\n",
    "\"\"\".strip()"
   ]
  },
  {
   "cell_type": "code",
   "execution_count": 20,
   "metadata": {},
   "outputs": [],
   "source": [
    "dcExample = {\n",
    "    \"company\" : \"카카오 헬스케어\",\n",
    "    \"position\" : \"디지털헬스케어 수석연구원\",\n",
    "    \"maxlength\" : 300,\n",
    "    \"question\" : \"소속 조직의 공동과업 달성하는 과정에서 발생했던 어려움과 그 어려움을 극복하기 위해 기울인 노력에 대해 구체적인 사례를 바탕으로 기술해 주세요\",\n",
    "    \"experience\" : \"보건연구소 역학파트장 및 디지털헬스케어파트장 역임\\n 연구과제 책임연구원 의사 퇴사를 대신하여 국내 최초 질환 통계모형 및 딥러닝 모형 개발 \"\n",
    "}"
   ]
  },
  {
   "cell_type": "code",
   "execution_count": 21,
   "metadata": {},
   "outputs": [],
   "source": [
    "prompt = TemplePromptV1.format(\n",
    "    sCompany = dcExample[\"company\"],\n",
    "    sPosition = dcExample[\"position\"],\n",
    "    sQuestion = dcExample[\"question\"],\n",
    "    sExperience = dcExample[\"experience\"],\n",
    "    nMaxLength = dcExample[\"maxlength\"]\n",
    ")"
   ]
  },
  {
   "cell_type": "code",
   "execution_count": 22,
   "metadata": {},
   "outputs": [
    {
     "name": "stdout",
     "output_type": "stream",
     "text": [
      "기업 입사용 자기소개서를 작성해야 합니다.\n",
      "답변해야 하는 질문과 이에 관련된 경험을을 참고해서 자기소개서를 작성해 주세요.\n",
      "반드시 300 자 이내로 작성해야 합니다.\n",
      "\n",
      "---\n",
      "지원 회사 : 카카오 헬스케어\n",
      "지원 직무 : 디지털헬스케어 수석연구원\n",
      "질문 : 소속 조직의 공동과업 달성하는 과정에서 발생했던 어려움과 그 어려움을 극복하기 위해 기울인 노력에 대해 구체적인 사례를 바탕으로 기술해 주세요\n",
      "관련 경험 : 보건연구소 역학파트장 및 디지털헬스케어파트장 역임\n",
      " 연구과제 책임연구원 의사 퇴사를 대신하여 국내 최초 질환 통계모형 및 딥러닝 모형 개발 \n",
      "---\n"
     ]
    }
   ],
   "source": [
    "print(prompt)"
   ]
  },
  {
   "cell_type": "code",
   "execution_count": 8,
   "metadata": {},
   "outputs": [
    {
     "name": "stdout",
     "output_type": "stream",
     "text": [
      "저는 보건연구소에서 역학파트장 및 디지털헬스케어파트장으로 역임하면서 소속 조직의 공동과업을 위해 노력한 경험이 있습니다. 특히, 연구과제 책임연구원의 의사 퇴사로 인해 국내 최초 질환 통계모형 및 딥러닝 모형을 개발하는 프로젝트에서 어려움을 겪었습니다.\n",
      "\n",
      "첫째로, 의사의 퇴사로 인해 프로젝트 일정이 급격히 압박되었습니다. 이에 저는 팀원들과 긴밀히 의사소통하여 추가 인력을 확보하고 일정을 재조정하여 모형 개발을 완료했습니다. 두 번째로, 기술적인 난이도로 인해 모형 개발에 어려움을 겪었습니다. 이에 저는 병역 협업을 이끌어내어 전문가들과 협력하여 문제를 해결할 수 있었습니다.\n",
      "\n",
      "이를 통해 저는 어려움을 극복하기 위해 팀원과의 원활한 의사소통과 협업, 유기적인 일정 조정, 그리고 전문가들과의 협력을 통해 성공적으로 프로젝트를 마무리할 수 있었습니다. 이러한 경험을 토대로 카카오 헬스케어에서도 디지털헬스케어 수석연구원으로서 새로운 도전에 임할 준비가 되어있습니다.저는 보건연구소에서 역학파트장 및 디지털헬스케어파트장으로 역임하면서 소속 조직의 공동과업을 위해 노력한 경험이 있습니다. 특히, 연구과제 책임연구원의 의사 퇴사로 인해 국내 최초 질환 통계모형 및 딥러닝 모형을 개발하는 프로젝트에서 어려움을 겪었습니다.\n",
      "\n",
      "첫째로, 의사의 퇴사로 인해 프로젝트 일정이 급격히 압박되었습니다. 이에 저는 팀원들과 긴밀히 의사소통하여 추가 인력을 확보하고 일정을 재조정하여 모형 개발을 완료했습니다. 두 번째로, 기술적인 난이도로 인해 모형 개발에 어려움을 겪었습니다. 이에 저는 병역 협업을 이끌어내어 전문가들과 협력하여 문제를 해결할 수 있었습니다.\n",
      "\n",
      "이를 통해 저는 어려움을 극복하기 위해 팀원과의 원활한 의사소통과 협업, 유기적인 일정 조정, 그리고 전문가들과의 협력을 통해 성공적으로 프로젝트를 마무리할 수 있었습니다. 이러한 경험을 토대로 카카오 헬스케어에서도 디지털헬스케어 수석연구원으로서 새로운 도전에 임할 준비가 되어있습니다.\n"
     ]
    }
   ],
   "source": [
    "res = RequestChatGpt(sPrompt=prompt, bStream=True)\n",
    "msg = PrintStreamResponseConsole(res)\n",
    "\n",
    "print(msg)"
   ]
  },
  {
   "cell_type": "code",
   "execution_count": 9,
   "metadata": {},
   "outputs": [
    {
     "data": {
      "text/plain": [
       "487"
      ]
     },
     "execution_count": 9,
     "metadata": {},
     "output_type": "execute_result"
    }
   ],
   "source": [
    " len(msg)"
   ]
  },
  {
   "cell_type": "code",
   "execution_count": 10,
   "metadata": {},
   "outputs": [],
   "source": [
    "TemplePromptV2 = \"\"\"\n",
    "기업 입사용 자기소개서를 작성해야 합니다.\n",
    "답변해야 하는 질문과 이에 관련된 경험을을 참고해서 자기소개서를 작성해 주세요.\n",
    "반드시 {nMaxLength} 단어 이내로 작성해야 합니다.\n",
    "\n",
    "---\n",
    "지원 회사 : {sCompany}\n",
    "지원 직무 : {sPosition}\n",
    "질문 : {sQuestion}\n",
    "관련 경험 : {sExperience}\n",
    "---\n",
    "\"\"\".strip()"
   ]
  },
  {
   "cell_type": "code",
   "execution_count": 14,
   "metadata": {},
   "outputs": [
    {
     "name": "stdout",
     "output_type": "stream",
     "text": [
      "기업 입사용 자기소개서를 작성해야 합니다.\n",
      "답변해야 하는 질문과 이에 관련된 경험을을 참고해서 자기소개서를 작성해 주세요.\n",
      "반드시 83 단어 이내로 작성해야 합니다.\n",
      "\n",
      "---\n",
      "지원 회사 : 카카오 헬스케어\n",
      "지원 직무 : 디지털헬스케어 수석연구원\n",
      "질문 : 소속 조직의 공동과업 달성하는 과정에서 발생했던 어려움과 그 어려움을 극복하기 위해 기울인 노력에 대해 구체적인 사례를 바탕으로 기술해 주세요\n",
      "관련 경험 : 보건연구소 역학파트장 및 디지털헬스케어파트장 역임\n",
      " 연구과제 책임연구원 의사 퇴사를 대신하여 국내 최초 질환 통계모형 및 딥러닝 모형 개발 \n",
      "---\n"
     ]
    }
   ],
   "source": [
    "prompt = TemplePromptV2.format(\n",
    "    sCompany = dcExample[\"company\"],\n",
    "    sPosition = dcExample[\"position\"],\n",
    "    sQuestion = dcExample[\"question\"],\n",
    "    sExperience = dcExample[\"experience\"],\n",
    "    nMaxLength = dcExample[\"maxlength\"] //6\n",
    ")\n",
    "\n",
    "print(prompt)"
   ]
  },
  {
   "cell_type": "code",
   "execution_count": 15,
   "metadata": {},
   "outputs": [
    {
     "name": "stdout",
     "output_type": "stream",
     "text": [
      "과제 수행 중 의사 퇴사로 인한 예상치 못한 어려움이 있었습니다. 필요한 의학적 지식 부족으로 빈자리를 메우기 어려웠지만, 빠른 학습과 협업을 통해 극복했습니다. 팀원들과 협력하여 국내 최초 질환 통계모형과 딥러닝 모형을 성공적으로 개발했습니다. 다양한 전문성을 보유한 팀과의 소통과 협업을 통해 문제를 해결하고 목표를 완수했습니다. 이 경험을 토대로 카카오 헬스케어에서도 적극적이고 협력적인 업무태도로 성과를 이루겠습니다.과제 수행 중 의사 퇴사로 인한 예상치 못한 어려움이 있었습니다. 필요한 의학적 지식 부족으로 빈자리를 메우기 어려웠지만, 빠른 학습과 협업을 통해 극복했습니다. 팀원들과 협력하여 국내 최초 질환 통계모형과 딥러닝 모형을 성공적으로 개발했습니다. 다양한 전문성을 보유한 팀과의 소통과 협업을 통해 문제를 해결하고 목표를 완수했습니다. 이 경험을 토대로 카카오 헬스케어에서도 적극적이고 협력적인 업무태도로 성과를 이루겠습니다.\n"
     ]
    }
   ],
   "source": [
    "res = RequestChatGpt(sPrompt=prompt, bStream=True)\n",
    "msg = PrintStreamResponseConsole(res)\n",
    "\n",
    "print(msg)"
   ]
  },
  {
   "cell_type": "code",
   "execution_count": 16,
   "metadata": {},
   "outputs": [
    {
     "name": "stdout",
     "output_type": "stream",
     "text": [
      "공백 포함 글자 수 : 237\n"
     ]
    }
   ],
   "source": [
    "print(f\"공백 포함 글자 수 : { len(msg)}\")"
   ]
  },
  {
   "cell_type": "code",
   "execution_count": 18,
   "metadata": {},
   "outputs": [
    {
     "name": "stdout",
     "output_type": "stream",
     "text": [
      "기업 입사용 자기소개서를 작성해야 합니다.\n",
      "답변해야 하는 질문과 이에 관련된 경험을을 참고해서 자기소개서를 작성해 주세요.\n",
      "반드시 500 단어 이내로 작성해야 합니다.\n",
      "단락마다 소제목을 넣어주세요\n",
      "\n",
      "---\n",
      "지원 회사 : 카카오 헬스케어\n",
      "지원 직무 : 디지털헬스케어 수석연구원\n",
      "질문 : 소속 조직의 공동과업 달성하는 과정에서 발생했던 어려움과 그 어려움을 극복하기 위해 기울인 노력에 대해 구체적인 사례를 바탕으로 기술해 주세요\n",
      "관련 경험 : 보건연구소 역학파트장 및 디지털헬스케어파트장 역임\n",
      " 연구과제 책임연구원 의사 퇴사를 대신하여 국내 최초 질환 통계모형 및 딥러닝 모형 개발 \n",
      "---\n"
     ]
    }
   ],
   "source": [
    "TemplePromptV3 = \"\"\"\n",
    "기업 입사용 자기소개서를 작성해야 합니다.\n",
    "답변해야 하는 질문과 이에 관련된 경험을을 참고해서 자기소개서를 작성해 주세요.\n",
    "반드시 {nMaxLength} 단어 이내로 작성해야 합니다.\n",
    "단락마다 소제목을 넣어주세요\n",
    "\n",
    "---\n",
    "지원 회사 : {sCompany}\n",
    "지원 직무 : {sPosition}\n",
    "질문 : {sQuestion}\n",
    "관련 경험 : {sExperience}\n",
    "---\n",
    "\"\"\".strip()\n",
    "\n",
    "prompt = TemplePromptV3.format(\n",
    "    sCompany = dcExample[\"company\"],\n",
    "    sPosition = dcExample[\"position\"],\n",
    "    sQuestion = dcExample[\"question\"],\n",
    "    sExperience = dcExample[\"experience\"],\n",
    "    nMaxLength = dcExample[\"maxlength\"] \n",
    ")\n",
    "\n",
    "print(prompt)"
   ]
  },
  {
   "cell_type": "code",
   "execution_count": 19,
   "metadata": {},
   "outputs": [
    {
     "name": "stdout",
     "output_type": "stream",
     "text": [
      "**조직 내 협업의 중요성**\n",
      "\n",
      "보건연구소에서 역학파트장 및 디지털헬스케어파트장으로 역임하며, 소속 조직의 공동과업을 달성하는 과정에서 여러 어려움을 겪었습니다. 이 중 가장 큰 어려움은 연구과제 책임연구원인 의사의 퇴사로 인한 혼란이었습니다. 해당 의사는 질환 통계모형 및 딥러닝 모형의 개발을 담당하고 있었기 때문에 그 빈자리를 메꾸는 것이 시급했습니다. 이에 어떻게 그 어려움을 극복하고 소속 조직의 공동과업을 이끌어 나갔는지에 대해 알아봅시다.\n",
      "\n",
      "---\n",
      "\n",
      "**난관을 극복하는 노력**\n",
      "\n",
      "의사의 퇴사 후, 국내 최초로 질환 통계모형 및 딥러닝 모형을 개발하던 프로젝트가 중단의 위기에 처했습니다. 이에 빠르게 대응하기 위해 제가 책임을 맡아야 했습니다. 가장 먼저 저는 전체적인 프로젝트의 현황을 분석하고, 남은 과제와 해야 할 일을 면밀히 검토했습니다. 그리고 팀원들과 긴밀한 소통을 통해 각자의 역할과 책임을 재조정하고 업무 우선순위를 다시 세우는 작업을 시작했습니다.\n",
      "\n",
      "---\n",
      "\n",
      "**팀원들을 동원한 협력**\n",
      "\n",
      "이후, 팀원들과의 소통과 협력이 성공적으로 진행될 수 있도록 노력했습니다. 특히, 의사의 역할을 대신 맡아야 했던 부분에 대해 다른 전문가들과의 협력을 강조했습니다. 함께 회의를 통해 각자의 전문성을 발휘하고 최선의 결과물을 만들어내기 위해 노력했습니다. 또한, 팀원들의 의견을 존중하고 공감 대화를"
     ]
    },
    {
     "ename": "KeyboardInterrupt",
     "evalue": "",
     "output_type": "error",
     "traceback": [
      "\u001b[0;31m---------------------------------------------------------------------------\u001b[0m",
      "\u001b[0;31mKeyboardInterrupt\u001b[0m                         Traceback (most recent call last)",
      "Cell \u001b[0;32mIn[19], line 2\u001b[0m\n\u001b[1;32m      1\u001b[0m res \u001b[38;5;241m=\u001b[39m RequestChatGpt(sPrompt\u001b[38;5;241m=\u001b[39mprompt, bStream\u001b[38;5;241m=\u001b[39m\u001b[38;5;28;01mTrue\u001b[39;00m)\n\u001b[0;32m----> 2\u001b[0m msg \u001b[38;5;241m=\u001b[39m \u001b[43mPrintStreamResponseConsole\u001b[49m\u001b[43m(\u001b[49m\u001b[43mres\u001b[49m\u001b[43m)\u001b[49m\n\u001b[1;32m      4\u001b[0m \u001b[38;5;28mprint\u001b[39m(\u001b[38;5;124mf\u001b[39m\u001b[38;5;124m\"\u001b[39m\u001b[38;5;124m공백 포함 글자 수 : \u001b[39m\u001b[38;5;132;01m{\u001b[39;00m\u001b[38;5;250m \u001b[39m\u001b[38;5;28mlen\u001b[39m(msg)\u001b[38;5;132;01m}\u001b[39;00m\u001b[38;5;124m\"\u001b[39m)\n",
      "File \u001b[0;32m~/Documents/GitHub/Tracker/0502_ChatGptStreamlitLogin/common.py:57\u001b[0m, in \u001b[0;36mPrintStreamResponseConsole\u001b[0;34m(response)\u001b[0m\n\u001b[1;32m     55\u001b[0m \u001b[38;5;28;01mdef\u001b[39;00m \u001b[38;5;21mPrintStreamResponseConsole\u001b[39m( response ) :\n\u001b[1;32m     56\u001b[0m     sMessage \u001b[38;5;241m=\u001b[39m \u001b[38;5;124m\"\u001b[39m\u001b[38;5;124m\"\u001b[39m\n\u001b[0;32m---> 57\u001b[0m     \u001b[38;5;28;01mfor\u001b[39;00m chunk \u001b[38;5;129;01min\u001b[39;00m response :\n\u001b[1;32m     58\u001b[0m         delta \u001b[38;5;241m=\u001b[39m chunk\u001b[38;5;241m.\u001b[39mchoices[\u001b[38;5;241m0\u001b[39m][\u001b[38;5;124m\"\u001b[39m\u001b[38;5;124mdelta\u001b[39m\u001b[38;5;124m\"\u001b[39m]\n\u001b[1;32m     59\u001b[0m         \u001b[38;5;28;01mif\u001b[39;00m \u001b[38;5;124m\"\u001b[39m\u001b[38;5;124mcontent\u001b[39m\u001b[38;5;124m\"\u001b[39m \u001b[38;5;129;01min\u001b[39;00m delta :\n",
      "File \u001b[0;32m~/miniconda3/envs/StreamPy39/lib/python3.9/site-packages/openai/api_resources/abstract/engine_api_resource.py:166\u001b[0m, in \u001b[0;36m<genexpr>\u001b[0;34m(.0)\u001b[0m\n\u001b[1;32m    163\u001b[0m \u001b[38;5;28;01mif\u001b[39;00m stream:\n\u001b[1;32m    164\u001b[0m     \u001b[38;5;66;03m# must be an iterator\u001b[39;00m\n\u001b[1;32m    165\u001b[0m     \u001b[38;5;28;01massert\u001b[39;00m \u001b[38;5;129;01mnot\u001b[39;00m \u001b[38;5;28misinstance\u001b[39m(response, OpenAIResponse)\n\u001b[0;32m--> 166\u001b[0m     \u001b[38;5;28;01mreturn\u001b[39;00m (\n\u001b[1;32m    167\u001b[0m         util\u001b[38;5;241m.\u001b[39mconvert_to_openai_object(\n\u001b[1;32m    168\u001b[0m             line,\n\u001b[1;32m    169\u001b[0m             api_key,\n\u001b[1;32m    170\u001b[0m             api_version,\n\u001b[1;32m    171\u001b[0m             organization,\n\u001b[1;32m    172\u001b[0m             engine\u001b[38;5;241m=\u001b[39mengine,\n\u001b[1;32m    173\u001b[0m             plain_old_data\u001b[38;5;241m=\u001b[39m\u001b[38;5;28mcls\u001b[39m\u001b[38;5;241m.\u001b[39mplain_old_data,\n\u001b[1;32m    174\u001b[0m         )\n\u001b[1;32m    175\u001b[0m         \u001b[38;5;28;01mfor\u001b[39;00m line \u001b[38;5;129;01min\u001b[39;00m response\n\u001b[1;32m    176\u001b[0m     )\n\u001b[1;32m    177\u001b[0m \u001b[38;5;28;01melse\u001b[39;00m:\n\u001b[1;32m    178\u001b[0m     obj \u001b[38;5;241m=\u001b[39m util\u001b[38;5;241m.\u001b[39mconvert_to_openai_object(\n\u001b[1;32m    179\u001b[0m         response,\n\u001b[1;32m    180\u001b[0m         api_key,\n\u001b[0;32m   (...)\u001b[0m\n\u001b[1;32m    184\u001b[0m         plain_old_data\u001b[38;5;241m=\u001b[39m\u001b[38;5;28mcls\u001b[39m\u001b[38;5;241m.\u001b[39mplain_old_data,\n\u001b[1;32m    185\u001b[0m     )\n",
      "File \u001b[0;32m~/miniconda3/envs/StreamPy39/lib/python3.9/site-packages/openai/api_requestor.py:692\u001b[0m, in \u001b[0;36m<genexpr>\u001b[0;34m(.0)\u001b[0m\n\u001b[1;32m    690\u001b[0m \u001b[38;5;250m\u001b[39m\u001b[38;5;124;03m\"\"\"Returns the response(s) and a bool indicating whether it is a stream.\"\"\"\u001b[39;00m\n\u001b[1;32m    691\u001b[0m \u001b[38;5;28;01mif\u001b[39;00m stream \u001b[38;5;129;01mand\u001b[39;00m \u001b[38;5;124m\"\u001b[39m\u001b[38;5;124mtext/event-stream\u001b[39m\u001b[38;5;124m\"\u001b[39m \u001b[38;5;129;01min\u001b[39;00m result\u001b[38;5;241m.\u001b[39mheaders\u001b[38;5;241m.\u001b[39mget(\u001b[38;5;124m\"\u001b[39m\u001b[38;5;124mContent-Type\u001b[39m\u001b[38;5;124m\"\u001b[39m, \u001b[38;5;124m\"\u001b[39m\u001b[38;5;124m\"\u001b[39m):\n\u001b[0;32m--> 692\u001b[0m     \u001b[38;5;28;01mreturn\u001b[39;00m (\n\u001b[1;32m    693\u001b[0m         \u001b[38;5;28mself\u001b[39m\u001b[38;5;241m.\u001b[39m_interpret_response_line(\n\u001b[1;32m    694\u001b[0m             line, result\u001b[38;5;241m.\u001b[39mstatus_code, result\u001b[38;5;241m.\u001b[39mheaders, stream\u001b[38;5;241m=\u001b[39m\u001b[38;5;28;01mTrue\u001b[39;00m\n\u001b[1;32m    695\u001b[0m         )\n\u001b[1;32m    696\u001b[0m         \u001b[38;5;28;01mfor\u001b[39;00m line \u001b[38;5;129;01min\u001b[39;00m parse_stream(result\u001b[38;5;241m.\u001b[39miter_lines())\n\u001b[1;32m    697\u001b[0m     ), \u001b[38;5;28;01mTrue\u001b[39;00m\n\u001b[1;32m    698\u001b[0m \u001b[38;5;28;01melse\u001b[39;00m:\n\u001b[1;32m    699\u001b[0m     \u001b[38;5;28;01mreturn\u001b[39;00m (\n\u001b[1;32m    700\u001b[0m         \u001b[38;5;28mself\u001b[39m\u001b[38;5;241m.\u001b[39m_interpret_response_line(\n\u001b[1;32m    701\u001b[0m             result\u001b[38;5;241m.\u001b[39mcontent\u001b[38;5;241m.\u001b[39mdecode(\u001b[38;5;124m\"\u001b[39m\u001b[38;5;124mutf-8\u001b[39m\u001b[38;5;124m\"\u001b[39m),\n\u001b[0;32m   (...)\u001b[0m\n\u001b[1;32m    706\u001b[0m         \u001b[38;5;28;01mFalse\u001b[39;00m,\n\u001b[1;32m    707\u001b[0m     )\n",
      "File \u001b[0;32m~/miniconda3/envs/StreamPy39/lib/python3.9/site-packages/openai/api_requestor.py:115\u001b[0m, in \u001b[0;36mparse_stream\u001b[0;34m(rbody)\u001b[0m\n\u001b[1;32m    114\u001b[0m \u001b[38;5;28;01mdef\u001b[39;00m \u001b[38;5;21mparse_stream\u001b[39m(rbody: Iterator[\u001b[38;5;28mbytes\u001b[39m]) \u001b[38;5;241m-\u001b[39m\u001b[38;5;241m>\u001b[39m Iterator[\u001b[38;5;28mstr\u001b[39m]:\n\u001b[0;32m--> 115\u001b[0m     \u001b[38;5;28;01mfor\u001b[39;00m line \u001b[38;5;129;01min\u001b[39;00m rbody:\n\u001b[1;32m    116\u001b[0m         _line \u001b[38;5;241m=\u001b[39m parse_stream_helper(line)\n\u001b[1;32m    117\u001b[0m         \u001b[38;5;28;01mif\u001b[39;00m _line \u001b[38;5;129;01mis\u001b[39;00m \u001b[38;5;129;01mnot\u001b[39;00m \u001b[38;5;28;01mNone\u001b[39;00m:\n",
      "File \u001b[0;32m~/miniconda3/envs/StreamPy39/lib/python3.9/site-packages/requests/models.py:865\u001b[0m, in \u001b[0;36mResponse.iter_lines\u001b[0;34m(self, chunk_size, decode_unicode, delimiter)\u001b[0m\n\u001b[1;32m    856\u001b[0m \u001b[38;5;250m\u001b[39m\u001b[38;5;124;03m\"\"\"Iterates over the response data, one line at a time.  When\u001b[39;00m\n\u001b[1;32m    857\u001b[0m \u001b[38;5;124;03mstream=True is set on the request, this avoids reading the\u001b[39;00m\n\u001b[1;32m    858\u001b[0m \u001b[38;5;124;03mcontent at once into memory for large responses.\u001b[39;00m\n\u001b[1;32m    859\u001b[0m \n\u001b[1;32m    860\u001b[0m \u001b[38;5;124;03m.. note:: This method is not reentrant safe.\u001b[39;00m\n\u001b[1;32m    861\u001b[0m \u001b[38;5;124;03m\"\"\"\u001b[39;00m\n\u001b[1;32m    863\u001b[0m pending \u001b[38;5;241m=\u001b[39m \u001b[38;5;28;01mNone\u001b[39;00m\n\u001b[0;32m--> 865\u001b[0m \u001b[38;5;28;01mfor\u001b[39;00m chunk \u001b[38;5;129;01min\u001b[39;00m \u001b[38;5;28mself\u001b[39m\u001b[38;5;241m.\u001b[39miter_content(\n\u001b[1;32m    866\u001b[0m     chunk_size\u001b[38;5;241m=\u001b[39mchunk_size, decode_unicode\u001b[38;5;241m=\u001b[39mdecode_unicode\n\u001b[1;32m    867\u001b[0m ):\n\u001b[1;32m    869\u001b[0m     \u001b[38;5;28;01mif\u001b[39;00m pending \u001b[38;5;129;01mis\u001b[39;00m \u001b[38;5;129;01mnot\u001b[39;00m \u001b[38;5;28;01mNone\u001b[39;00m:\n\u001b[1;32m    870\u001b[0m         chunk \u001b[38;5;241m=\u001b[39m pending \u001b[38;5;241m+\u001b[39m chunk\n",
      "File \u001b[0;32m~/miniconda3/envs/StreamPy39/lib/python3.9/site-packages/requests/models.py:816\u001b[0m, in \u001b[0;36mResponse.iter_content.<locals>.generate\u001b[0;34m()\u001b[0m\n\u001b[1;32m    814\u001b[0m \u001b[38;5;28;01mif\u001b[39;00m \u001b[38;5;28mhasattr\u001b[39m(\u001b[38;5;28mself\u001b[39m\u001b[38;5;241m.\u001b[39mraw, \u001b[38;5;124m\"\u001b[39m\u001b[38;5;124mstream\u001b[39m\u001b[38;5;124m\"\u001b[39m):\n\u001b[1;32m    815\u001b[0m     \u001b[38;5;28;01mtry\u001b[39;00m:\n\u001b[0;32m--> 816\u001b[0m         \u001b[38;5;28;01myield from\u001b[39;00m \u001b[38;5;28mself\u001b[39m\u001b[38;5;241m.\u001b[39mraw\u001b[38;5;241m.\u001b[39mstream(chunk_size, decode_content\u001b[38;5;241m=\u001b[39m\u001b[38;5;28;01mTrue\u001b[39;00m)\n\u001b[1;32m    817\u001b[0m     \u001b[38;5;28;01mexcept\u001b[39;00m ProtocolError \u001b[38;5;28;01mas\u001b[39;00m e:\n\u001b[1;32m    818\u001b[0m         \u001b[38;5;28;01mraise\u001b[39;00m ChunkedEncodingError(e)\n",
      "File \u001b[0;32m~/miniconda3/envs/StreamPy39/lib/python3.9/site-packages/urllib3/response.py:1030\u001b[0m, in \u001b[0;36mHTTPResponse.stream\u001b[0;34m(self, amt, decode_content)\u001b[0m\n\u001b[1;32m   1014\u001b[0m \u001b[38;5;250m\u001b[39m\u001b[38;5;124;03m\"\"\"\u001b[39;00m\n\u001b[1;32m   1015\u001b[0m \u001b[38;5;124;03mA generator wrapper for the read() method. A call will block until\u001b[39;00m\n\u001b[1;32m   1016\u001b[0m \u001b[38;5;124;03m``amt`` bytes have been read from the connection or until the\u001b[39;00m\n\u001b[0;32m   (...)\u001b[0m\n\u001b[1;32m   1027\u001b[0m \u001b[38;5;124;03m    'content-encoding' header.\u001b[39;00m\n\u001b[1;32m   1028\u001b[0m \u001b[38;5;124;03m\"\"\"\u001b[39;00m\n\u001b[1;32m   1029\u001b[0m \u001b[38;5;28;01mif\u001b[39;00m \u001b[38;5;28mself\u001b[39m\u001b[38;5;241m.\u001b[39mchunked \u001b[38;5;129;01mand\u001b[39;00m \u001b[38;5;28mself\u001b[39m\u001b[38;5;241m.\u001b[39msupports_chunked_reads():\n\u001b[0;32m-> 1030\u001b[0m     \u001b[38;5;28;01myield from\u001b[39;00m \u001b[38;5;28mself\u001b[39m\u001b[38;5;241m.\u001b[39mread_chunked(amt, decode_content\u001b[38;5;241m=\u001b[39mdecode_content)\n\u001b[1;32m   1031\u001b[0m \u001b[38;5;28;01melse\u001b[39;00m:\n\u001b[1;32m   1032\u001b[0m     \u001b[38;5;28;01mwhile\u001b[39;00m \u001b[38;5;129;01mnot\u001b[39;00m is_fp_closed(\u001b[38;5;28mself\u001b[39m\u001b[38;5;241m.\u001b[39m_fp) \u001b[38;5;129;01mor\u001b[39;00m \u001b[38;5;28mlen\u001b[39m(\u001b[38;5;28mself\u001b[39m\u001b[38;5;241m.\u001b[39m_decoded_buffer) \u001b[38;5;241m>\u001b[39m \u001b[38;5;241m0\u001b[39m:\n",
      "File \u001b[0;32m~/miniconda3/envs/StreamPy39/lib/python3.9/site-packages/urllib3/response.py:1170\u001b[0m, in \u001b[0;36mHTTPResponse.read_chunked\u001b[0;34m(self, amt, decode_content)\u001b[0m\n\u001b[1;32m   1167\u001b[0m     \u001b[38;5;28;01mreturn\u001b[39;00m \u001b[38;5;28;01mNone\u001b[39;00m\n\u001b[1;32m   1169\u001b[0m \u001b[38;5;28;01mwhile\u001b[39;00m \u001b[38;5;28;01mTrue\u001b[39;00m:\n\u001b[0;32m-> 1170\u001b[0m     \u001b[38;5;28;43mself\u001b[39;49m\u001b[38;5;241;43m.\u001b[39;49m\u001b[43m_update_chunk_length\u001b[49m\u001b[43m(\u001b[49m\u001b[43m)\u001b[49m\n\u001b[1;32m   1171\u001b[0m     \u001b[38;5;28;01mif\u001b[39;00m \u001b[38;5;28mself\u001b[39m\u001b[38;5;241m.\u001b[39mchunk_left \u001b[38;5;241m==\u001b[39m \u001b[38;5;241m0\u001b[39m:\n\u001b[1;32m   1172\u001b[0m         \u001b[38;5;28;01mbreak\u001b[39;00m\n",
      "File \u001b[0;32m~/miniconda3/envs/StreamPy39/lib/python3.9/site-packages/urllib3/response.py:1098\u001b[0m, in \u001b[0;36mHTTPResponse._update_chunk_length\u001b[0;34m(self)\u001b[0m\n\u001b[1;32m   1096\u001b[0m \u001b[38;5;28;01mif\u001b[39;00m \u001b[38;5;28mself\u001b[39m\u001b[38;5;241m.\u001b[39mchunk_left \u001b[38;5;129;01mis\u001b[39;00m \u001b[38;5;129;01mnot\u001b[39;00m \u001b[38;5;28;01mNone\u001b[39;00m:\n\u001b[1;32m   1097\u001b[0m     \u001b[38;5;28;01mreturn\u001b[39;00m \u001b[38;5;28;01mNone\u001b[39;00m\n\u001b[0;32m-> 1098\u001b[0m line \u001b[38;5;241m=\u001b[39m \u001b[38;5;28;43mself\u001b[39;49m\u001b[38;5;241;43m.\u001b[39;49m\u001b[43m_fp\u001b[49m\u001b[38;5;241;43m.\u001b[39;49m\u001b[43mfp\u001b[49m\u001b[38;5;241;43m.\u001b[39;49m\u001b[43mreadline\u001b[49m\u001b[43m(\u001b[49m\u001b[43m)\u001b[49m  \u001b[38;5;66;03m# type: ignore[union-attr]\u001b[39;00m\n\u001b[1;32m   1099\u001b[0m line \u001b[38;5;241m=\u001b[39m line\u001b[38;5;241m.\u001b[39msplit(\u001b[38;5;124mb\u001b[39m\u001b[38;5;124m\"\u001b[39m\u001b[38;5;124m;\u001b[39m\u001b[38;5;124m\"\u001b[39m, \u001b[38;5;241m1\u001b[39m)[\u001b[38;5;241m0\u001b[39m]\n\u001b[1;32m   1100\u001b[0m \u001b[38;5;28;01mtry\u001b[39;00m:\n",
      "File \u001b[0;32m~/miniconda3/envs/StreamPy39/lib/python3.9/socket.py:704\u001b[0m, in \u001b[0;36mSocketIO.readinto\u001b[0;34m(self, b)\u001b[0m\n\u001b[1;32m    702\u001b[0m \u001b[38;5;28;01mwhile\u001b[39;00m \u001b[38;5;28;01mTrue\u001b[39;00m:\n\u001b[1;32m    703\u001b[0m     \u001b[38;5;28;01mtry\u001b[39;00m:\n\u001b[0;32m--> 704\u001b[0m         \u001b[38;5;28;01mreturn\u001b[39;00m \u001b[38;5;28;43mself\u001b[39;49m\u001b[38;5;241;43m.\u001b[39;49m\u001b[43m_sock\u001b[49m\u001b[38;5;241;43m.\u001b[39;49m\u001b[43mrecv_into\u001b[49m\u001b[43m(\u001b[49m\u001b[43mb\u001b[49m\u001b[43m)\u001b[49m\n\u001b[1;32m    705\u001b[0m     \u001b[38;5;28;01mexcept\u001b[39;00m timeout:\n\u001b[1;32m    706\u001b[0m         \u001b[38;5;28mself\u001b[39m\u001b[38;5;241m.\u001b[39m_timeout_occurred \u001b[38;5;241m=\u001b[39m \u001b[38;5;28;01mTrue\u001b[39;00m\n",
      "File \u001b[0;32m~/miniconda3/envs/StreamPy39/lib/python3.9/ssl.py:1275\u001b[0m, in \u001b[0;36mSSLSocket.recv_into\u001b[0;34m(self, buffer, nbytes, flags)\u001b[0m\n\u001b[1;32m   1271\u001b[0m     \u001b[38;5;28;01mif\u001b[39;00m flags \u001b[38;5;241m!=\u001b[39m \u001b[38;5;241m0\u001b[39m:\n\u001b[1;32m   1272\u001b[0m         \u001b[38;5;28;01mraise\u001b[39;00m \u001b[38;5;167;01mValueError\u001b[39;00m(\n\u001b[1;32m   1273\u001b[0m           \u001b[38;5;124m\"\u001b[39m\u001b[38;5;124mnon-zero flags not allowed in calls to recv_into() on \u001b[39m\u001b[38;5;132;01m%s\u001b[39;00m\u001b[38;5;124m\"\u001b[39m \u001b[38;5;241m%\u001b[39m\n\u001b[1;32m   1274\u001b[0m           \u001b[38;5;28mself\u001b[39m\u001b[38;5;241m.\u001b[39m\u001b[38;5;18m__class__\u001b[39m)\n\u001b[0;32m-> 1275\u001b[0m     \u001b[38;5;28;01mreturn\u001b[39;00m \u001b[38;5;28;43mself\u001b[39;49m\u001b[38;5;241;43m.\u001b[39;49m\u001b[43mread\u001b[49m\u001b[43m(\u001b[49m\u001b[43mnbytes\u001b[49m\u001b[43m,\u001b[49m\u001b[43m \u001b[49m\u001b[43mbuffer\u001b[49m\u001b[43m)\u001b[49m\n\u001b[1;32m   1276\u001b[0m \u001b[38;5;28;01melse\u001b[39;00m:\n\u001b[1;32m   1277\u001b[0m     \u001b[38;5;28;01mreturn\u001b[39;00m \u001b[38;5;28msuper\u001b[39m()\u001b[38;5;241m.\u001b[39mrecv_into(buffer, nbytes, flags)\n",
      "File \u001b[0;32m~/miniconda3/envs/StreamPy39/lib/python3.9/ssl.py:1133\u001b[0m, in \u001b[0;36mSSLSocket.read\u001b[0;34m(self, len, buffer)\u001b[0m\n\u001b[1;32m   1131\u001b[0m \u001b[38;5;28;01mtry\u001b[39;00m:\n\u001b[1;32m   1132\u001b[0m     \u001b[38;5;28;01mif\u001b[39;00m buffer \u001b[38;5;129;01mis\u001b[39;00m \u001b[38;5;129;01mnot\u001b[39;00m \u001b[38;5;28;01mNone\u001b[39;00m:\n\u001b[0;32m-> 1133\u001b[0m         \u001b[38;5;28;01mreturn\u001b[39;00m \u001b[38;5;28;43mself\u001b[39;49m\u001b[38;5;241;43m.\u001b[39;49m\u001b[43m_sslobj\u001b[49m\u001b[38;5;241;43m.\u001b[39;49m\u001b[43mread\u001b[49m\u001b[43m(\u001b[49m\u001b[38;5;28;43mlen\u001b[39;49m\u001b[43m,\u001b[49m\u001b[43m \u001b[49m\u001b[43mbuffer\u001b[49m\u001b[43m)\u001b[49m\n\u001b[1;32m   1134\u001b[0m     \u001b[38;5;28;01melse\u001b[39;00m:\n\u001b[1;32m   1135\u001b[0m         \u001b[38;5;28;01mreturn\u001b[39;00m \u001b[38;5;28mself\u001b[39m\u001b[38;5;241m.\u001b[39m_sslobj\u001b[38;5;241m.\u001b[39mread(\u001b[38;5;28mlen\u001b[39m)\n",
      "\u001b[0;31mKeyboardInterrupt\u001b[0m: "
     ]
    }
   ],
   "source": [
    "res = RequestChatGpt(sPrompt=prompt, bStream=True)\n",
    "msg = PrintStreamResponseConsole(res)\n",
    "\n",
    "print(f\"공백 포함 글자 수 : { len(msg)}\")"
   ]
  },
  {
   "cell_type": "code",
   "execution_count": null,
   "metadata": {},
   "outputs": [],
   "source": []
  }
 ],
 "metadata": {
  "kernelspec": {
   "display_name": "StreamPy39",
   "language": "python",
   "name": "python3"
  },
  "language_info": {
   "codemirror_mode": {
    "name": "ipython",
    "version": 3
   },
   "file_extension": ".py",
   "mimetype": "text/x-python",
   "name": "python",
   "nbconvert_exporter": "python",
   "pygments_lexer": "ipython3",
   "version": "3.9.18"
  }
 },
 "nbformat": 4,
 "nbformat_minor": 2
}
