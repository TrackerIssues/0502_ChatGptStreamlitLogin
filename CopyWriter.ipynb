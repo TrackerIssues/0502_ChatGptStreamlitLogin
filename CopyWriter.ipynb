{
 "cells": [
  {
   "cell_type": "code",
   "execution_count": 9,
   "metadata": {},
   "outputs": [],
   "source": [
    "import openai\n",
    "import os\n",
    "from Api import ApiKey"
   ]
  },
  {
   "cell_type": "code",
   "execution_count": 10,
   "metadata": {},
   "outputs": [],
   "source": [
    "openai.api_key = ApiKey"
   ]
  },
  {
   "cell_type": "code",
   "execution_count": 11,
   "metadata": {},
   "outputs": [],
   "source": [
    "def RequestChatGpt( \n",
    "        sPrompt,\n",
    "        sRoleSys = \"당신은 유능한 한글 카피 도우미\",\n",
    "        sModel = \"gpt-3.5-turbo\",\n",
    "        bStream = False,\n",
    ") :\n",
    "    lstMessage = [\n",
    "        { \"role\" : \"system\",\n",
    "         \"content\" : sRoleSys},\n",
    "         { \"role\" : \"user\",\n",
    "          \"content\" : sPrompt}\n",
    "    ]\n",
    "\n",
    "    res = openai.ChatCompletion.create(\n",
    "        model = sModel,\n",
    "        messages = lstMessage,\n",
    "        stream = bStream,\n",
    "    )\n",
    "    return res"
   ]
  },
  {
   "cell_type": "code",
   "execution_count": 12,
   "metadata": {},
   "outputs": [],
   "source": [
    "def PrintStreamResponse( response ) :\n",
    "    for chunk in response :\n",
    "        delta = chunk.choices[0][\"delta\"]\n",
    "        if \"content\" in delta :\n",
    "            print( delta[\"content\"], end=\"\")\n",
    "        else :\n",
    "            break"
   ]
  },
  {
   "cell_type": "code",
   "execution_count": 13,
   "metadata": {},
   "outputs": [
    {
     "name": "stdout",
     "output_type": "stream",
     "text": [
      "비오는 날 듣기 좋은 자장가를 소개해드릴게요!\n",
      "\n",
      "1. \"비 내리는 창가에서\" - 김광석\n",
      "2. \"비 오는 압구정동\" - 임재범\n",
      "3. \"비와 당신\" - 송창식\n",
      "4. \"비의 노래\" - 이승철\n",
      "5. \"너에게 비가 내리면\" - 이문세\n",
      "6. \"비처럼 음악처럼\" - 휘성\n",
      "7. \"비를 맞으며\" - 임창정\n",
      "8. \"비오는 날 수채화\" - 김범수\n",
      "9. \"비 내리는 날에\" - 성시경\n",
      "10. \"비가 와\" - 윤건\n",
      "\n",
      "이 자장가들은 비 내리는 날의 감성을 잘 담고 있어 편안하고 여유로운 분위기를 느끼게 해줄 거예요. 각자의 감성과 취향에 맞는 음악을 찾아 들어보세요!"
     ]
    }
   ],
   "source": [
    "res = RequestChatGpt(\"비오는 날 듣기 좋은 자장가 알려줘\", bStream=True )\n",
    "PrintStreamResponse( res )"
   ]
  },
  {
   "cell_type": "code",
   "execution_count": 15,
   "metadata": {},
   "outputs": [
    {
     "name": "stdout",
     "output_type": "stream",
     "text": [
      "1. \"SNS 마케팅을 효과적으로 진행하고 싶다면, 신뢰할 수 있는 크롤링 소프트웨어가 필수입니다. 우리의 소프트웨어는 강력한 데이터 수집 능력과 정확한 분석 기능을 제공하여, 타깃 고객의 행동과 선호도를 파악하는 데 도움을 줄 것입니다. 당신의 SNS 마케팅을 높은 수준으로 끌어올리기 위해 우리와 함께 시작해 보세요!\"\n",
      "\n",
      "2. \"SNS에서 경쟁력 있는 마케팅을 위해 크롤링 소프트웨어의 힘을 빌려보세요. 우리의 강력한 크롤러는 실시간으로 유용한 데이터를 수집하여, 당신이 목표로 하는 타깃 고객의 관심사와 선호도를 명확하게 파악할 수 있도록 도와줍니다. 전문적인 SNS 마케팅을 위한 최고의 파트너로서, 우리와 함께 성공에 도전해보세요!\"\n",
      "\n",
      "3. \"우리의 크롤링 소프트웨어는 SNS 마케팅의 핵심 도구입니다. 이 도구를 활용하면 소셜 미디어 플랫폼에서 고객에게 어떻게 더욱 가치 있는 콘텐츠를 제공할 수 있는지에 대한 통찰력을 얻을 수 있습니다. 세심한 분석과 신속한 데이터 수집을 통해 최신 동향을 파악하고 효율적인 마케팅 전략을 실행하세요. 성공적인 SNS 마케팅을 위해, 지금 바로 저희 소프트웨어를 이용해보세요!\""
     ]
    }
   ],
   "source": [
    "sQuery = \"크롤링 소프트웨어 SNS 마케팅을 위한 카피 3개 만들어 줘\"\n",
    "sRole = \"당신은 한글 전문 카피라이터\"\n",
    "\n",
    "res = RequestChatGpt(sPrompt=sQuery, sRoleSys=sRole, bStream=True)\n",
    "PrintStreamResponse( res )"
   ]
  },
  {
   "cell_type": "code",
   "execution_count": 18,
   "metadata": {},
   "outputs": [],
   "source": [
    "sQueryTemplate = \"\"\"\n",
    "제품 혹은 브랜드를 SNS에 광고하기 위한 문구를 생성해 주세요.\n",
    "자극적이고 창의적으로 작성해 주세요.\n",
    "명사 위주로 간결하게 작성해 주세요.\n",
    "---\n",
    "제품명 : {sProductName}\n",
    "제품 설명 : {sProductDesc}\n",
    "\"\"\".strip()"
   ]
  },
  {
   "cell_type": "code",
   "execution_count": 19,
   "metadata": {},
   "outputs": [
    {
     "data": {
      "text/plain": [
       "'제품 혹은 브랜드를 SNS에 광고하기 위한 문구를 생성해 주세요.\\n자극적이고 창의적으로 작성해 주세요.\\n명사 위주로 간결하게 작성해 주세요.\\n---\\n제품명 : {sProductName}\\n제품 설명 : {sProductDesc}'"
      ]
     },
     "execution_count": 19,
     "metadata": {},
     "output_type": "execute_result"
    }
   ],
   "source": [
    "sQueryTemplate"
   ]
  },
  {
   "cell_type": "code",
   "execution_count": 23,
   "metadata": {},
   "outputs": [],
   "source": [
    "sProductName = \"소프트웨어\"\n",
    "sProductDesc = \"인터넷 무한 정보를 손쉽게 크롤링 해보세요\"\n",
    "\n",
    "sQuery = sQueryTemplate.format(\n",
    "    sProductName = sProductName,\n",
    "    sProductDesc = sProductDesc\n",
    ")"
   ]
  },
  {
   "cell_type": "code",
   "execution_count": 24,
   "metadata": {},
   "outputs": [
    {
     "name": "stdout",
     "output_type": "stream",
     "text": [
      "제품 혹은 브랜드를 SNS에 광고하기 위한 문구를 생성해 주세요.\n",
      "자극적이고 창의적으로 작성해 주세요.\n",
      "명사 위주로 간결하게 작성해 주세요.\n",
      "---\n",
      "제품명 : 소프트웨어\n",
      "제품 설명 : 인터넷 무한 정보를 손쉽게 크롤링 해보세요\n"
     ]
    }
   ],
   "source": [
    "print(sQuery)"
   ]
  },
  {
   "cell_type": "code",
   "execution_count": 25,
   "metadata": {},
   "outputs": [
    {
     "name": "stdout",
     "output_type": "stream",
     "text": [
      "\"더이상 정보를 찾아 헤매지 말고, 소프트웨어가 도와줄게요. 크롤링의 신세계에 당신을 초대합니다!\""
     ]
    }
   ],
   "source": [
    "res = RequestChatGpt(\n",
    "    sPrompt=sQuery,\n",
    "    sRoleSys=sRole,\n",
    "    bStream=True\n",
    ")\n",
    "\n",
    "PrintStreamResponse( res )"
   ]
  },
  {
   "cell_type": "code",
   "execution_count": 28,
   "metadata": {},
   "outputs": [],
   "source": [
    "sQueryTemplate = \"\"\"\n",
    "제품 혹은 브랜드를 SNS에 광고하기 위한 문구를 {iNum}개 생성해 주세요.\n",
    "자극적이고 창의적으로 작성해 주세요.\n",
    "명사 위주로 간결하게 작성해 주세요.\n",
    "반드시 {iMaxWord} 단어 이내로 작성해 주세요.\n",
    "---\n",
    "제품명 : {sProductName}\n",
    "제품 설명 : {sProductDesc}\n",
    "---\n",
    "\"\"\".strip()"
   ]
  },
  {
   "cell_type": "code",
   "execution_count": 29,
   "metadata": {},
   "outputs": [],
   "source": [
    "sProductName = \"크롤링 서비스\"\n",
    "sProductDesc = \"반복적인 힘든 자료 검색 및 정리, 크롤링 서비스 받아보세요\"\n",
    "\n",
    "sQuery = sQueryTemplate.format(\n",
    "    iNum = 5,\n",
    "    iMaxWord = 5,\n",
    "    sProductName = sProductName,\n",
    "    sProductDesc = sProductDesc\n",
    ")"
   ]
  },
  {
   "cell_type": "code",
   "execution_count": 31,
   "metadata": {},
   "outputs": [
    {
     "name": "stdout",
     "output_type": "stream",
     "text": [
      "제품 혹은 브랜드를 SNS에 광고하기 위한 문구를 5개 생성해 주세요.\n",
      "자극적이고 창의적으로 작성해 주세요.\n",
      "명사 위주로 간결하게 작성해 주세요.\n",
      "반드시 5 단어 이내로 작성해 주세요.\n",
      "---\n",
      "제품명 : 크롤링 서비스\n",
      "제품 설명 : 반복적인 힘든 자료 검색 및 정리, 크롤링 서비스 받아보세요\n",
      "---\n"
     ]
    }
   ],
   "source": [
    "print(sQuery)"
   ]
  },
  {
   "cell_type": "code",
   "execution_count": 32,
   "metadata": {},
   "outputs": [
    {
     "name": "stdout",
     "output_type": "stream",
     "text": [
      "1. 자료원처럼, 언제나 깔끔하게.\n",
      "2. 클릭 한 번으로 끝내는 정보 추적.\n",
      "3. 검색에 시간 낭비하지 마세요.\n",
      "4. 효율적인 정보 수집은 크롤링 서비스에게 맡기세요.\n",
      "5. 크롤링 서비스로 더 나은 결과를 경험하세요."
     ]
    }
   ],
   "source": [
    "res = RequestChatGpt(\n",
    "    sPrompt= sQuery,\n",
    "    sRoleSys= sRole,\n",
    "    bStream=True\n",
    ")\n",
    "PrintStreamResponse(res)"
   ]
  },
  {
   "cell_type": "code",
   "execution_count": 33,
   "metadata": {},
   "outputs": [],
   "source": [
    "sQueryTemplate = \"\"\"\n",
    "제품 혹은 브랜드를 SNS에 광고하기 위한 문구를 {iNum}개 생성해 주세요.\n",
    "자극적이고 창의적으로 작성해 주세요.\n",
    "명사 위주로 간결하게 작성해 주세요.\n",
    "반드시 {iMaxWord} 단어 이내로 작성해 주세요.\n",
    "키워드가 있을 경우, 반드시 키워드 중 하나를 포함해야 함.\n",
    "---\n",
    "제품명 : {sProductName}\n",
    "제품 설명 : {sProductDesc}\n",
    "키워드 : {lstKeyWord}\n",
    "---\n",
    "\"\"\".strip()"
   ]
  },
  {
   "cell_type": "code",
   "execution_count": 37,
   "metadata": {},
   "outputs": [],
   "source": [
    "sProductName = \"크롤링 서비스\"\n",
    "sProductDesc = \"반복적인 힘든 자료 검색 및 정리, 크롤링 서비스 받아보세요\"\n",
    "lstKeyWord = [\"시간\", \"만족\", \"전문\"]\n",
    "\n",
    "sQuery = sQueryTemplate.format(\n",
    "    iNum = 5,\n",
    "    iMaxWord = 7,\n",
    "    sProductName = sProductName,\n",
    "    sProductDesc = sProductDesc,\n",
    "    lstKeyWord = lstKeyWord,\n",
    ")"
   ]
  },
  {
   "cell_type": "code",
   "execution_count": 38,
   "metadata": {},
   "outputs": [
    {
     "name": "stdout",
     "output_type": "stream",
     "text": [
      "제품 혹은 브랜드를 SNS에 광고하기 위한 문구를 5개 생성해 주세요.\n",
      "자극적이고 창의적으로 작성해 주세요.\n",
      "명사 위주로 간결하게 작성해 주세요.\n",
      "반드시 7 단어 이내로 작성해 주세요.\n",
      "키워드가 있을 경우, 반드시 키워드 중 하나를 포함해야 함.\n",
      "---\n",
      "제품명 : 크롤링 서비스\n",
      "제품 설명 : 반복적인 힘든 자료 검색 및 정리, 크롤링 서비스 받아보세요\n",
      "키워드 : ['시간', '만족', '전문']\n",
      "---\n"
     ]
    }
   ],
   "source": [
    "print(sQuery)"
   ]
  },
  {
   "cell_type": "code",
   "execution_count": 39,
   "metadata": {},
   "outputs": [
    {
     "name": "stdout",
     "output_type": "stream",
     "text": [
      "1. 시간을 아껴주는 전문 크롤링 서비스!\n",
      "2. 고퀄 자료, 빠른 시간에! 크롤링 서비스!\n",
      "3. 전문가에게 맡기세요, 만족보장 크롤링 서비스!\n",
      "4. 고민하지마세요, 전문 크롤링 서비스로 해결!\n",
      "5. 번거로운 작업은 전문에게 맡겨! 크롤링 서비스!"
     ]
    }
   ],
   "source": [
    "res = RequestChatGpt(\n",
    "    sPrompt= sQuery,\n",
    "    sRoleSys= sRole,\n",
    "    bStream=True\n",
    ")\n",
    "PrintStreamResponse(res)"
   ]
  },
  {
   "cell_type": "code",
   "execution_count": 40,
   "metadata": {},
   "outputs": [
    {
     "name": "stdout",
     "output_type": "stream",
     "text": [
      "제품 혹은 브랜드를 SNS에 광고하기 위한 문구를 5개 생성해 주세요.\n",
      "자극적이고 창의적으로 작성해 주세요.\n",
      "명사 위주로 간결하게 작성해 주세요.\n",
      "반드시 7 단어 이내로 작성해 주세요.\n",
      "키워드가 있을 경우, 반드시 키워드 중 하나를 포함해야 함.\n",
      "---\n",
      "제품명 : 크롤링 서비스\n",
      "제품 설명 : 반복적인 힘든 자료 검색 및 정리, 크롤링 서비스 받아보세요\n",
      "키워드 : ['시간', '만족', '전문', '효율']\n",
      "---\n",
      "1. 효율적인 시간 활용, 전문 크롤링 서비스로 만족도 UP! \n",
      "2. 귀찮음과 고민 없이, 전문 크롤링 서비스 선택해보세요. \n",
      "3. 시간은 금이라고 했던가? 전문 크롤링 서비스로 시간을 절약하세요. \n",
      "4. 자료 검색의 고단함을 따뜻하게 해결! 전문 크롤링 서비스 이용하세요. \n",
      "5. 전문 크롤링 서비스로 효율 UP, 불필요한 노력 DOWN!"
     ]
    }
   ],
   "source": [
    "sQueryTemplate = \"\"\"\n",
    "제품 혹은 브랜드를 SNS에 광고하기 위한 문구를 {iNum}개 생성해 주세요.\n",
    "자극적이고 창의적으로 작성해 주세요.\n",
    "명사 위주로 간결하게 작성해 주세요.\n",
    "반드시 {iMaxWord} 단어 이내로 작성해 주세요.\n",
    "키워드가 있을 경우, 반드시 키워드 중 하나를 포함해야 함.\n",
    "---\n",
    "제품명 : {sProductName}\n",
    "제품 설명 : {sProductDesc}\n",
    "키워드 : {lstKeyWord}\n",
    "---\n",
    "\"\"\".strip()\n",
    "\n",
    "sProductName = \"크롤링 서비스\"\n",
    "sProductDesc = \"반복적인 힘든 자료 검색 및 정리, 크롤링 서비스 받아보세요\"\n",
    "lstKeyWord = [\"시간\", \"만족\", \"전문\", \"효율\"]\n",
    "\n",
    "sQuery = sQueryTemplate.format(\n",
    "    iNum = 5,\n",
    "    iMaxWord = 7,\n",
    "    sProductName = sProductName,\n",
    "    sProductDesc = sProductDesc,\n",
    "    lstKeyWord = lstKeyWord,\n",
    ")\n",
    "\n",
    "print(sQuery)\n",
    "\n",
    "res = RequestChatGpt(\n",
    "    sPrompt= sQuery,\n",
    "    sRoleSys= sRole,\n",
    "    bStream=True\n",
    ")\n",
    "PrintStreamResponse(res)"
   ]
  },
  {
   "cell_type": "code",
   "execution_count": 41,
   "metadata": {},
   "outputs": [
    {
     "name": "stdout",
     "output_type": "stream",
     "text": [
      "제품 혹은 브랜드를 SNS에 광고하기 위한 문구를 5개 생성해 주세요.\n",
      "자극적이고 창의적으로 작성해 주세요.\n",
      "명사 위주로 간결하게 작성해 주세요.\n",
      "반드시 7 단어 이내로 작성해 주세요.\n",
      "키워드가 있을 경우, 반드시 키워드 중 하나를 포함해야 함.\n",
      "이모지를 적절하게 사용해 주세요.\n",
      "---\n",
      "제품명 : 크롤링 서비스\n",
      "제품 설명 : 반복적인 힘든 자료 검색 및 정리, 크롤링 서비스 받아보세요\n",
      "키워드 : ['시간', '만족', '전문', '효율']\n",
      "---\n",
      "1. 🕘 시간과 힘든 작업을 대신해 드립니다! 내용 크롤링 서비스\n",
      "2. 📚 전문가들만 알고 있는 자료를 여러분께! 신뢰할 수 있는 크롤링 서비스\n",
      "3. ⚡ 반복 작업을 효율적으로 처리하세요! 편리한 크롤링 서비스\n",
      "4. 🤩 일일히 찾지 마세요! 필요한 자료를 손쉽게 크롤링 서비스로\n",
      "5. 😊 시간 절약, 만족도 up! 클릭 한 번으로 끝나는 크롤링 서비스"
     ]
    }
   ],
   "source": [
    "sQueryTemplate = \"\"\"\n",
    "제품 혹은 브랜드를 SNS에 광고하기 위한 문구를 {iNum}개 생성해 주세요.\n",
    "자극적이고 창의적으로 작성해 주세요.\n",
    "명사 위주로 간결하게 작성해 주세요.\n",
    "반드시 {iMaxWord} 단어 이내로 작성해 주세요.\n",
    "키워드가 있을 경우, 반드시 키워드 중 하나를 포함해야 함.\n",
    "이모지를 적절하게 사용해 주세요.\n",
    "---\n",
    "제품명 : {sProductName}\n",
    "제품 설명 : {sProductDesc}\n",
    "키워드 : {lstKeyWord}\n",
    "---\n",
    "\"\"\".strip()\n",
    "\n",
    "sProductName = \"크롤링 서비스\"\n",
    "sProductDesc = \"반복적인 힘든 자료 검색 및 정리, 크롤링 서비스 받아보세요\"\n",
    "lstKeyWord = [\"시간\", \"만족\", \"전문\", \"효율\"]\n",
    "\n",
    "sQuery = sQueryTemplate.format(\n",
    "    iNum = 5,\n",
    "    iMaxWord = 7,\n",
    "    sProductName = sProductName,\n",
    "    sProductDesc = sProductDesc,\n",
    "    lstKeyWord = lstKeyWord,\n",
    ")\n",
    "\n",
    "print(sQuery)\n",
    "\n",
    "res = RequestChatGpt(\n",
    "    sPrompt= sQuery,\n",
    "    sRoleSys= sRole,\n",
    "    bStream=True\n",
    ")\n",
    "PrintStreamResponse(res)"
   ]
  },
  {
   "cell_type": "code",
   "execution_count": 42,
   "metadata": {},
   "outputs": [
    {
     "name": "stdout",
     "output_type": "stream",
     "text": [
      "제품 혹은 브랜드를 SNS에 광고하기 위한 문구를 5개 생성해 주세요.\n",
      "자극적이고 창의적으로 작성해 주세요.\n",
      "명사 위주로 간결하게 작성해 주세요.\n",
      "반드시 7 단어 이내로 작성해 주세요.\n",
      "키워드가 있을 경우, 반드시 키워드 중 하나를 포함해야 함.\n",
      "이모지를 적절하게 사용해 주세요.\n",
      "---\n",
      "제품명 : 만성질환 예측모형 개발\n",
      "제품 설명 : AI 고혈압 예측모형 개발\n",
      "키워드 : ['시계열', '위험요인', '상대위험도']\n",
      "---\n",
      "1. 👀 당신의 미래 고혈압 예측을 핀포인트로!\n",
      "2. 🔄 고혈압에 반격하는 AI 시계열 예측모형!\n",
      "3. 🔮 과연 내가 만성질환에 걸릴지 예측해볼까요?\n",
      "4. 💡 위험을 알면 예방 가능! 상대위험도 기반 고혈압 예측!\n",
      "5. 💪 AI가 풀어주는 고혈압 탐지, 다가오는 위험에 대비하세요!"
     ]
    }
   ],
   "source": [
    "sQueryTemplate = \"\"\"\n",
    "제품 혹은 브랜드를 SNS에 광고하기 위한 문구를 {iNum}개 생성해 주세요.\n",
    "자극적이고 창의적으로 작성해 주세요.\n",
    "명사 위주로 간결하게 작성해 주세요.\n",
    "반드시 {iMaxWord} 단어 이내로 작성해 주세요.\n",
    "키워드가 있을 경우, 반드시 키워드 중 하나를 포함해야 함.\n",
    "이모지를 적절하게 사용해 주세요.\n",
    "---\n",
    "제품명 : {sProductName}\n",
    "제품 설명 : {sProductDesc}\n",
    "키워드 : {lstKeyWord}\n",
    "---\n",
    "\"\"\".strip()\n",
    "\n",
    "sProductName = \"만성질환 예측모형 개발\"\n",
    "sProductDesc = \"AI 고혈압 예측모형 개발\"\n",
    "lstKeyWord = [\"시계열\", \"위험요인\", \"상대위험도\"]\n",
    "\n",
    "sQuery = sQueryTemplate.format(\n",
    "    iNum = 5,\n",
    "    iMaxWord = 7,\n",
    "    sProductName = sProductName,\n",
    "    sProductDesc = sProductDesc,\n",
    "    lstKeyWord = lstKeyWord,\n",
    ")\n",
    "\n",
    "print(sQuery)\n",
    "\n",
    "res = RequestChatGpt(\n",
    "    sPrompt= sQuery,\n",
    "    sRoleSys= sRole,\n",
    "    bStream=True\n",
    ")\n",
    "PrintStreamResponse(res)"
   ]
  },
  {
   "cell_type": "code",
   "execution_count": 44,
   "metadata": {},
   "outputs": [
    {
     "name": "stdout",
     "output_type": "stream",
     "text": [
      "제품 혹은 브랜드를 SNS에 광고하기 위한 문구를 5개 생성해 주세요.\n",
      "자극적이고 창의적으로 작성해 주세요.\n",
      "명사 위주로 간결하게 작성해 주세요.\n",
      "반드시 10 단어 이내로 작성해 주세요.\n",
      "키워드가 있을 경우, 반드시 키워드 중 하나를 포함해야 함.\n",
      "이모지를 적절하게 사용해 주세요.\n",
      "---\n",
      "제품명 : 만성질환 예측모형 개발\n",
      "제품 설명 : 고혈압 통계 예측모형 개발\n",
      "키워드 : ['콕스 비례위험', '위험요인', '상대위험도', '통계']\n",
      "---\n",
      "1. 📊 고혈압 위험 예측은 이제 더 쉽고 정확하게 가능합니다. (#통계 #상대위험도)\n",
      "\n",
      "2. 📉 건강을 위협하는 고혈압, 이제는 예측하여 적절한 조치를 취하세요. (#콕스비례위험 #위험요인)\n",
      "\n",
      "3. 💡 고혈압 예측모형 개발로 미리 대비하는 스마트한 선택! (#통계 #위험요인)\n",
      "\n",
      "4. 📚 고혈압에 미리 대비하여 건강한 미래를 구현하세요. (#상대위험도 #위험요인)\n",
      "\n",
      "5. 👩‍⚕️ 고혈압 예측모형으로 더 나은 생활습관을 만들어보세요. (#콕스비례위험 #통계)"
     ]
    }
   ],
   "source": [
    "sQueryTemplate = \"\"\"\n",
    "제품 혹은 브랜드를 SNS에 광고하기 위한 문구를 {iNum}개 생성해 주세요.\n",
    "자극적이고 창의적으로 작성해 주세요.\n",
    "명사 위주로 간결하게 작성해 주세요.\n",
    "반드시 {iMaxWord} 단어 이내로 작성해 주세요.\n",
    "키워드가 있을 경우, 반드시 키워드 중 하나를 포함해야 함.\n",
    "이모지를 적절하게 사용해 주세요.\n",
    "---\n",
    "제품명 : {sProductName}\n",
    "제품 설명 : {sProductDesc}\n",
    "키워드 : {lstKeyWord}\n",
    "---\n",
    "\"\"\".strip()\n",
    "\n",
    "sProductName = \"만성질환 예측모형 개발\"\n",
    "sProductDesc = \"고혈압 통계 예측모형 개발\"\n",
    "lstKeyWord = [\"콕스 비례위험\", \"위험요인\", \"상대위험도\", \"통계\"]\n",
    "\n",
    "sQuery = sQueryTemplate.format(\n",
    "    iNum = 5,\n",
    "    iMaxWord = 10,\n",
    "    sProductName = sProductName,\n",
    "    sProductDesc = sProductDesc,\n",
    "    lstKeyWord = lstKeyWord,\n",
    ")\n",
    "\n",
    "print(sQuery)\n",
    "\n",
    "res = RequestChatGpt(\n",
    "    sPrompt= sQuery,\n",
    "    sRoleSys= sRole,\n",
    "    bStream=True\n",
    ")\n",
    "PrintStreamResponse(res)"
   ]
  },
  {
   "cell_type": "code",
   "execution_count": 45,
   "metadata": {},
   "outputs": [
    {
     "name": "stdout",
     "output_type": "stream",
     "text": [
      "제품 혹은 브랜드를 SNS에 광고하기 위한 문구를 5개 생성해 주세요.\n",
      "자극적이고 창의적으로 작성해 주세요.\n",
      "명사 위주로 간결하게 작성해 주세요.\n",
      "반드시 10 단어 이내로 작성해 주세요.\n",
      "키워드가 있을 경우, 반드시 키워드 중 하나를 포함해야 함.\n",
      "이모지를 적절하게 사용해 주세요.\n",
      "---\n",
      "제품명 : 만성질환 예측모형 개발\n",
      "제품 설명 : 고혈압 AI 예측모형 개발\n",
      "키워드 : ['시계열 추이', '위험요인', '상대위험도', '개인 맞춤']\n",
      "---\n",
      "1. 📊 만성질환 예측 AI 모형! 위험 요인 정확 예측!\n",
      "2. ⏳ 고혈압을 예측하다! 시계열 추이로 상대위험도 분석!\n",
      "3. 🤖 개인 맞춤 AI! 고혈압 예측과 예방에 도움을 주는 제품!\n",
      "4. 🔮 고혈압 미래를 예측하다! AI와 함께하는 건강한 삶! \n",
      "5. 🎯 맞춤형 예방! 상대위험도 측정으로 만성질환 예측!"
     ]
    }
   ],
   "source": [
    "sQueryTemplate = \"\"\"\n",
    "제품 혹은 브랜드를 SNS에 광고하기 위한 문구를 {iNum}개 생성해 주세요.\n",
    "자극적이고 창의적으로 작성해 주세요.\n",
    "명사 위주로 간결하게 작성해 주세요.\n",
    "반드시 {iMaxWord} 단어 이내로 작성해 주세요.\n",
    "키워드가 있을 경우, 반드시 키워드 중 하나를 포함해야 함.\n",
    "이모지를 적절하게 사용해 주세요.\n",
    "---\n",
    "제품명 : {sProductName}\n",
    "제품 설명 : {sProductDesc}\n",
    "키워드 : {lstKeyWord}\n",
    "---\n",
    "\"\"\".strip()\n",
    "\n",
    "sProductName = \"만성질환 예측모형 개발\"\n",
    "sProductDesc = \"고혈압 AI 예측모형 개발\"\n",
    "lstKeyWord = [\"시계열 추이\", \"위험요인\", \"상대위험도\", \"개인 맞춤\"]\n",
    "\n",
    "sQuery = sQueryTemplate.format(\n",
    "    iNum = 5,\n",
    "    iMaxWord = 10,\n",
    "    sProductName = sProductName,\n",
    "    sProductDesc = sProductDesc,\n",
    "    lstKeyWord = lstKeyWord,\n",
    ")\n",
    "\n",
    "print(sQuery)\n",
    "\n",
    "res = RequestChatGpt(\n",
    "    sPrompt= sQuery,\n",
    "    sRoleSys= sRole,\n",
    "    bStream=True\n",
    ")\n",
    "PrintStreamResponse(res)"
   ]
  },
  {
   "cell_type": "code",
   "execution_count": null,
   "metadata": {},
   "outputs": [],
   "source": []
  }
 ],
 "metadata": {
  "kernelspec": {
   "display_name": "StreamPy39",
   "language": "python",
   "name": "python3"
  },
  "language_info": {
   "codemirror_mode": {
    "name": "ipython",
    "version": 3
   },
   "file_extension": ".py",
   "mimetype": "text/x-python",
   "name": "python",
   "nbconvert_exporter": "python",
   "pygments_lexer": "ipython3",
   "version": "3.9.18"
  }
 },
 "nbformat": 4,
 "nbformat_minor": 2
}
